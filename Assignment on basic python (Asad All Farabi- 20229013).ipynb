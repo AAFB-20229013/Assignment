{
  "nbformat": 4,
  "nbformat_minor": 0,
  "metadata": {
    "colab": {
      "provenance": []
    },
    "kernelspec": {
      "name": "python3",
      "display_name": "Python 3"
    },
    "language_info": {
      "name": "python"
    }
  },
  "cells": [
    {
      "cell_type": "code",
      "execution_count": null,
      "metadata": {
        "colab": {
          "base_uri": "https://localhost:8080/"
        },
        "id": "-D76Q3vutGCw",
        "outputId": "fcabcd63-a87f-4006-e155-c41d8dc1baa9"
      },
      "outputs": [
        {
          "output_type": "stream",
          "name": "stdout",
          "text": [
            "enter your data\n",
            "WM-ASDS\n",
            "count of all character in string \n",
            " Counter({'S': 2, 'W': 1, 'M': 1, '-': 1, 'A': 1, 'D': 1})\n"
          ]
        }
      ],
      "source": [
        "# problem-01 [counting frequencies of character]\n",
        "from collections import*\n",
        "\n",
        "print(\"enter your data\")\n",
        "a= input(\"\")\n",
        "\n",
        "x= Counter(a)\n",
        "\n",
        "print(\"count of all character in string \\n\", x)"
      ]
    },
    {
      "cell_type": "code",
      "source": [
        "#problem-02 [checking existense of key in dictionary ]\n",
        "def keycheck(D,K):\n",
        "    if K in D:\n",
        "        print(\"Existing\")\n",
        "        print(\"value=\", D[K])\n",
        "    else:\n",
        "        print(\"Doesnt exist\")\n",
        "\n",
        "# sample dictionary\n",
        "D={'a':15, 'b':32, 'c':94, 'd':59}\n",
        "\n",
        "K='c'\n",
        "keycheck(D,K)\n",
        "\n",
        "K='f'\n",
        "keycheck(D,K)"
      ],
      "metadata": {
        "colab": {
          "base_uri": "https://localhost:8080/"
        },
        "id": "AVIt6cQVzn6-",
        "outputId": "b32ab38e-8c51-4365-c243-382c0bd7a5da"
      },
      "execution_count": null,
      "outputs": [
        {
          "output_type": "stream",
          "name": "stdout",
          "text": [
            "Existing\n",
            "value= 94\n",
            "Doesnt exist\n"
          ]
        }
      ]
    },
    {
      "cell_type": "code",
      "source": [
        "#problem-03 [acceptance of comma separated number and creating list or tuples with them]\n",
        "a = input(\"Write down desired comma separated numbers : \")\n",
        "b = a.split(\",\")\n",
        "c = tuple(b)\n",
        "print('List : ', b)\n",
        "print('Tuple : ', c)"
      ],
      "metadata": {
        "colab": {
          "base_uri": "https://localhost:8080/"
        },
        "id": "TXY7U4Oz3Xg3",
        "outputId": "71f9a1b8-0041-4ad2-ffba-504602726588"
      },
      "execution_count": null,
      "outputs": [
        {
          "output_type": "stream",
          "name": "stdout",
          "text": [
            "Write down desired comma separated numbers : 9,0,5,7,6\n",
            "List :  ['9', '0', '5', '7', '6']\n",
            "Tuple :  ('9', '0', '5', '7', '6')\n"
          ]
        }
      ]
    },
    {
      "cell_type": "code",
      "source": [
        "#problem-04 [Difference between two dates]\n",
        "\n",
        "from datetime import*\n",
        "\n",
        "start= date(2023,3,31)\n",
        "end= date(2023,3,1)\n",
        "diff= start-end\n",
        "\n",
        "print('Your starting date is:', start)\n",
        "print('Ending date is:', end)\n",
        "print('The difference between given dates is:', diff)"
      ],
      "metadata": {
        "colab": {
          "base_uri": "https://localhost:8080/"
        },
        "id": "sKyxsSaG0Gfq",
        "outputId": "0aa9f97b-2f6c-4c32-da4f-e8aa10911d10"
      },
      "execution_count": 6,
      "outputs": [
        {
          "output_type": "stream",
          "name": "stdout",
          "text": [
            "Your starting date is: 2023-03-31\n",
            "Ending date is: 2023-03-01\n",
            "The difference between given dates is: 30 days, 0:00:00\n"
          ]
        }
      ]
    },
    {
      "cell_type": "code",
      "source": [
        "#problem-05 [python program for equation]\n",
        "def equation(x,y):\n",
        "    x= a\n",
        "    y= b\n",
        "    z=(x+y)**2\n",
        "    print(\"The end value is:\",z)\n",
        "\n",
        "\n",
        "a= int(input(\"the value of x:\"))\n",
        "b= int(input(\"the value of y:\"))\n",
        "\n",
        "equation(a,b)"
      ],
      "metadata": {
        "colab": {
          "base_uri": "https://localhost:8080/"
        },
        "id": "8JEOlVJy0sLe",
        "outputId": "eb635849-4eb3-4e7a-db53-26ac264a9e44"
      },
      "execution_count": null,
      "outputs": [
        {
          "output_type": "stream",
          "name": "stdout",
          "text": [
            "the value of x:10\n",
            "the value of y:24\n",
            "The end value is: 1156\n"
          ]
        }
      ]
    },
    {
      "cell_type": "code",
      "source": [
        "#problem-06 [python program for Future Value]\n",
        "def FV(p,i,n):\n",
        "    p=a\n",
        "    i=b/100\n",
        "    n=c\n",
        "    x=(1+i)**n\n",
        "    fv=p*x\n",
        "\n",
        "    print(\"The future value is:\", fv)\n",
        "\n",
        "a= int(input(\"Enter principal amount:\"))\n",
        "b= int(input(\"Enter annual interest in percentage:\"))\n",
        "c= int(input(\"Enter required period in year:\"))\n",
        "\n",
        "FV(a,b,c)"
      ],
      "metadata": {
        "colab": {
          "base_uri": "https://localhost:8080/"
        },
        "id": "EmALCczW4x-8",
        "outputId": "99f99a67-a7b2-443c-fd77-ff0185a18eba"
      },
      "execution_count": null,
      "outputs": [
        {
          "output_type": "stream",
          "name": "stdout",
          "text": [
            "Enter principal amount:120000\n",
            "Enter annual interest in percentage:9\n",
            "Enter required period in year:5\n",
            "The future value is: 184634.87458800006\n"
          ]
        }
      ]
    },
    {
      "cell_type": "code",
      "source": [
        "#problem-07 [Detecting recurring elements]\n",
        "from collections import*\n",
        "\n",
        "y=[1,1,2,3,2,3,2,1,1,4,5,6,7,8,9,0,5,6,4,3,7,0]\n",
        "\n",
        "print(y)\n",
        "\n",
        "z= Counter(y)\n",
        "\n",
        "a=list(z.keys())\n",
        "\n",
        "b= len(a)\n",
        "\n",
        "print(\"List of unique is:\", a)\n",
        "print(\"length of unique is:\", b)"
      ],
      "metadata": {
        "id": "fjnhg_p52b3z",
        "colab": {
          "base_uri": "https://localhost:8080/"
        },
        "outputId": "ce844237-4a19-4764-bebb-68eab03feaf9"
      },
      "execution_count": 3,
      "outputs": [
        {
          "output_type": "stream",
          "name": "stdout",
          "text": [
            "[1, 1, 2, 3, 2, 3, 2, 1, 1, 4, 5, 6, 7, 8, 9, 0, 5, 6, 4, 3, 7, 0]\n",
            "List of unique is: [1, 2, 3, 4, 5, 6, 7, 8, 9, 0]\n",
            "length of unique is: 10\n"
          ]
        }
      ]
    },
    {
      "cell_type": "code",
      "source": [
        "#problem-08 [Sorting in ascending & descending order a dictionary by its key value]\n",
        "md= {'Arsenal':12, 'ManU':24, 'ManC':23, 'Liverpool':28, 'AstonV':10, 'Tottenham':13}\n",
        "print(md)\n",
        "\n",
        "ascending_md= dict(sorted(md.items()))\n",
        "print(\"ascending order\", ascending_md)\n",
        "\n",
        "descending_md= dict(sorted(md.items(), reverse= True))\n",
        "print(\"descending order\", descending_md)"
      ],
      "metadata": {
        "id": "QGpisiJACHu5",
        "colab": {
          "base_uri": "https://localhost:8080/"
        },
        "outputId": "802d704b-e8b6-4a57-b00a-ea93674d0ce3"
      },
      "execution_count": 1,
      "outputs": [
        {
          "output_type": "stream",
          "name": "stdout",
          "text": [
            "{'Arsenal': 12, 'ManU': 24, 'ManC': 23, 'Liverpool': 28, 'AstonV': 10, 'Tottenham': 13}\n",
            "ascending order {'Arsenal': 12, 'AstonV': 10, 'Liverpool': 28, 'ManC': 23, 'ManU': 24, 'Tottenham': 13}\n",
            "descending order {'Tottenham': 13, 'ManU': 24, 'ManC': 23, 'Liverpool': 28, 'AstonV': 10, 'Arsenal': 12}\n"
          ]
        }
      ]
    },
    {
      "cell_type": "code",
      "source": [
        "#problem-09 [Add a key in existing dictionary]\n",
        "md= {'Arsenal':12, 'ManU':24, 'ManC':23, 'Liverpool':28, 'AstonV':10, 'Tottenham':13}\n",
        "print(md)\n",
        "\n",
        "md.update({'Chelsea': '20'})\n",
        "print(\"New dictionary adding 01 club:\", md)\n",
        "\n",
        "md2 = {'Westham': 15, 'Fulham': 8}\n",
        "md.update(md2)\n",
        "print(\"New dictionary adding new dictionary:\", md)"
      ],
      "metadata": {
        "colab": {
          "base_uri": "https://localhost:8080/"
        },
        "id": "7ZIhIWO7mmbX",
        "outputId": "78480be1-80a1-4afe-8087-ac0e9b530980"
      },
      "execution_count": 7,
      "outputs": [
        {
          "output_type": "stream",
          "name": "stdout",
          "text": [
            "{'Arsenal': 12, 'ManU': 24, 'ManC': 23, 'Liverpool': 28, 'AstonV': 10, 'Tottenham': 13}\n",
            "New dictionary adding 01 club: {'Arsenal': 12, 'ManU': 24, 'ManC': 23, 'Liverpool': 28, 'AstonV': 10, 'Tottenham': 13, 'Chelsea': '20'}\n",
            "New dictionary adding new dictionary: {'Arsenal': 12, 'ManU': 24, 'ManC': 23, 'Liverpool': 28, 'AstonV': 10, 'Tottenham': 13, 'Chelsea': '20', 'Westham': 15, 'Fulham': 8}\n"
          ]
        }
      ]
    },
    {
      "cell_type": "code",
      "source": [
        "#problem-10 [Creating a Dataframe using Pandas]\n",
        "import pandas as pd\n",
        "\n",
        "df=pd.DataFrame(\n",
        "        {'name': ['Arif', 'Asir', 'Arik', 'Anis', 'Anil', 'Ashish', 'Anahi', 'Alia', 'Alvin', 'Asim'],\n",
        "         'score': [12.5, 9, 16.5, 0, 9, 20, 14.5, 0, 8, 19],\n",
        "         'attempts': [1, 3, 2, 3, 2, 3, 1, 1, 2, 1],\n",
        "         'qualify': ['yes', 'no', 'yes', 'no', 'no', 'yes', 'yes', 'no', 'no', 'yes']},\n",
        "        columns= ['name', 'score', 'attempts', 'qualify'],\n",
        "        index = ['a', 'b', 'c', 'd', 'e', 'f', 'g', 'h', 'i', 'j']\n",
        "        )\n",
        "\n",
        "print(df)"
      ],
      "metadata": {
        "colab": {
          "base_uri": "https://localhost:8080/"
        },
        "id": "akAluO-Er8Q2",
        "outputId": "850e9358-3577-4e7a-dacb-62dd1161b507"
      },
      "execution_count": 8,
      "outputs": [
        {
          "output_type": "stream",
          "name": "stdout",
          "text": [
            "     name  score  attempts qualify\n",
            "a    Arif   12.5         1     yes\n",
            "b    Asir    9.0         3      no\n",
            "c    Arik   16.5         2     yes\n",
            "d    Anis    0.0         3      no\n",
            "e    Anil    9.0         2      no\n",
            "f  Ashish   20.0         3     yes\n",
            "g   Anahi   14.5         1     yes\n",
            "h    Alia    0.0         1      no\n",
            "i   Alvin    8.0         2      no\n",
            "j    Asim   19.0         1     yes\n"
          ]
        }
      ]
    }
  ]
}